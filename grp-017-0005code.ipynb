{
 "cells": [
  {
   "cell_type": "markdown",
   "metadata": {},
   "source": [
    "# COMP0005 - GROUP COURSEWORK\n",
    "# Experimental Evaluation of Search Data Structures and Algorithms"
   ]
  },
  {
   "cell_type": "markdown",
   "metadata": {},
   "source": [
    "The cell below defines **AbstractSearchInterface**, an interface to support basic insert/search operations; you will need to implement this three times, to realise your three search data structures of choice among: (1) *2-3 Tree*, (2) *AVL Tree*, (3) *LLRB BST*; (4) *B-Tree*; and (5) *Scapegoat Tree*. <br><br>**Do NOT modify the next cell** - use the dedicated cells further below for your implementation instead. <br>"
   ]
  },
  {
   "cell_type": "code",
   "execution_count": 71,
   "metadata": {},
   "outputs": [],
   "source": [
    "# DO NOT MODIFY THIS CELL\n",
    "\n",
    "from abc import ABC, abstractmethod  \n",
    "\n",
    "class AbstractSearchInterface(ABC):\n",
    "    '''\n",
    "    Abstract class to support search/insert operations (plus underlying data structure)\n",
    "    \n",
    "    '''\n",
    "        \n",
    "    @abstractmethod\n",
    "    def insertElement(self, element):     \n",
    "        '''\n",
    "        Insert an element in a search tree\n",
    "            Parameters:\n",
    "                    element: string to be inserted in the search tree (string)\n",
    "\n",
    "            Returns:\n",
    "                    \"True\" after successful insertion, \"False\" if element is already present (bool)\n",
    "        '''\n",
    "        \n",
    "        pass \n",
    "    \n",
    "\n",
    "    @abstractmethod\n",
    "    def searchElement(self, element):\n",
    "        '''\n",
    "        Search for an element in a search tree\n",
    "            Parameters:\n",
    "                    element: string to be searched in the search tree (string)\n",
    "\n",
    "            Returns:\n",
    "                    \"True\" if element is found, \"False\" otherwise (bool)\n",
    "        '''\n",
    "\n",
    "        pass"
   ]
  },
  {
   "cell_type": "markdown",
   "metadata": {},
   "source": [
    "Use the cell below to define any auxiliary data structure and python function you may need. Leave the implementation of the main API to the next code cells instead."
   ]
  },
  {
   "cell_type": "code",
   "execution_count": 72,
   "metadata": {},
   "outputs": [],
   "source": [
    "# ADD AUXILIARY DATA STRUCTURE DEFINITIONS AND HELPER CODE HERE\n",
    "def printTree(node, level=0):\n",
    "    if node != None:\n",
    "        printTree(node.right, level + 1)\n",
    "        print(' ' * 4 * level + '-> ' + str(node.key))\n",
    "        printTree(node.left, level + 1)\n"
   ]
  },
  {
   "cell_type": "markdown",
   "metadata": {},
   "source": [
    "Use the cell below to implement the requested API by means of **2-3 Tree** (if among your chosen data structure)."
   ]
  },
  {
   "cell_type": "code",
   "execution_count": 73,
   "metadata": {},
   "outputs": [],
   "source": [
    "class TwoThreeTree(AbstractSearchInterface):\n",
    "        \n",
    "    def insertElement(self, element):\n",
    "        inserted = False\n",
    "        # ADD YOUR CODE HERE\n",
    "      \n",
    "        \n",
    "        return inserted\n",
    "    \n",
    "    \n",
    "\n",
    "    def searchElement(self, element):     \n",
    "        found = False\n",
    "        # ADD YOUR CODE HERE\n",
    "\n",
    "        \n",
    "        return found    "
   ]
  },
  {
   "cell_type": "markdown",
   "metadata": {},
   "source": [
    "Use the cell below to implement the requested API by means of **AVL Tree** (if among your chosen data structure)."
   ]
  },
  {
   "cell_type": "code",
   "execution_count": 74,
   "metadata": {},
   "outputs": [],
   "source": [
    "class AVLTree(AbstractSearchInterface):\n",
    "\n",
    "    def __init__(self, key):\n",
    "        self.key = key\n",
    "        self.left = None\n",
    "        self.right = None\n",
    "        self.height = 1\n",
    "\n",
    "    def get_height(self, node):\n",
    "        if not node:\n",
    "            return 0\n",
    "        return node.height\n",
    "\n",
    "    def get_balance(self, node):\n",
    "        if not node:\n",
    "            return 0\n",
    "        return self.get_height(self.left) - self.get_height(self.right)\n",
    "\n",
    "    def rotateLeft(self, z):\n",
    "        y = z.right\n",
    "        T2 = y.left\n",
    "\n",
    "        y.left = z\n",
    "        z.right = T2\n",
    "\n",
    "        z.height = 1 + max(self.get_height(z.left), self.get_height(z.right))\n",
    "        y.height = 1 + max(self.get_height(y.left), self.get_height(y.right))\n",
    "\n",
    "        return y\n",
    "\n",
    "    def rotateRight(self, z):\n",
    "        y = z.left\n",
    "        T3 = y.right\n",
    "\n",
    "        y.right = z\n",
    "        z.left = T3\n",
    "\n",
    "        z.height = 1 + max(self.get_height(z.left), self.get_height(z.right))\n",
    "        y.height = 1 + max(self.get_height(y.left), self.get_height(y.right))\n",
    "\n",
    "        return y\n",
    "\n",
    "    def insert(self, root, key):\n",
    "        if not root:\n",
    "            return AVLTree(key), True\n",
    "        elif key < root.key:\n",
    "            root.left, added = self.insert(root.left, key)\n",
    "        elif key > root.key:\n",
    "            root.right, added = self.insert(root.right, key)\n",
    "        else:\n",
    "            return root, False\n",
    "\n",
    "        root.height = 1 + max(self.get_height(root.left), self.get_height(root.right))\n",
    "        balance = self.get_balance(root)\n",
    "\n",
    "        # Left rotation\n",
    "        if balance > 1 and key < root.left.key:\n",
    "            return self.rotateRight(root), True\n",
    "\n",
    "        # Right rotation\n",
    "        if balance < -1 and key > root.right.key:\n",
    "            return self.rotateLeft(root), True\n",
    "\n",
    "        # Left-Right rotation\n",
    "        if balance > 1 and key > root.left.key:\n",
    "            root.left = self.rotateLeft(root.left)\n",
    "            return self.rotateRight(root), True\n",
    "\n",
    "        # Right-Left rotation\n",
    "        if balance < -1 and key < root.right.key:\n",
    "            root.right = self.rotateRight(root.right)\n",
    "            return self.rotateLeft(root), True\n",
    "\n",
    "        return root, added\n",
    "        \n",
    "    def insertElement(self, element):\n",
    "        new_tree, added = self.insert(self, element)\n",
    "        self = new_tree\n",
    "        return added\n",
    "    \n",
    "\n",
    "    def searchElement(self, element):     \n",
    "        if self.key == element:\n",
    "            return True\n",
    "\n",
    "        if element < self.key and self.left:\n",
    "            return self.left.searchElement(element)\n",
    "\n",
    "        elif self.right:\n",
    "            return self.right.searchElement(element)   \n",
    "        \n",
    "        return False"
   ]
  },
  {
   "cell_type": "markdown",
   "metadata": {},
   "source": [
    "Use the cell below to implement the requested API by means of **LLRB BST** (if among your chosen data structure)."
   ]
  },
  {
   "cell_type": "code",
   "execution_count": 75,
   "metadata": {},
   "outputs": [],
   "source": [
    "class LLRBBST(AbstractSearchInterface):\n",
    "        \n",
    "    def insertElement(self, element):\n",
    "        inserted = False\n",
    "        # ADD YOUR CODE HERE\n",
    "      \n",
    "        \n",
    "        return inserted\n",
    "    \n",
    "    \n",
    "\n",
    "    def searchElement(self, element):     \n",
    "        found = False\n",
    "        # ADD YOUR CODE HERE\n",
    "\n",
    "        \n",
    "        return found  "
   ]
  },
  {
   "cell_type": "markdown",
   "metadata": {},
   "source": [
    "Use the cell below to implement the requested API by means of **B-Tree** (if among your chosen data structure)."
   ]
  },
  {
   "cell_type": "code",
   "execution_count": 76,
   "metadata": {},
   "outputs": [],
   "source": [
    "class BTree(AbstractSearchInterface):\n",
    "        \n",
    "    def insertElement(self, element):\n",
    "        inserted = False\n",
    "        # ADD YOUR CODE HERE\n",
    "      \n",
    "        \n",
    "        return inserted\n",
    "    \n",
    "    \n",
    "\n",
    "    def searchElement(self, element):     \n",
    "        found = False\n",
    "        # ADD YOUR CODE HERE\n",
    "\n",
    "        \n",
    "        return found"
   ]
  },
  {
   "cell_type": "markdown",
   "metadata": {},
   "source": [
    "Use the cell below to implement the requested API by means of **Scapegoat Tree** (if among your chosen data structure)."
   ]
  },
  {
   "cell_type": "code",
   "execution_count": 77,
   "metadata": {},
   "outputs": [],
   "source": [
    "class ScapegoatTree(AbstractSearchInterface):\n",
    "        \n",
    "    def insertElement(self, element):\n",
    "        inserted = False\n",
    "        # ADD YOUR CODE HERE\n",
    "      \n",
    "        \n",
    "        return inserted\n",
    "    \n",
    "    \n",
    "\n",
    "    def searchElement(self, element):     \n",
    "        found = False\n",
    "        # ADD YOUR CODE HERE\n",
    "\n",
    "        \n",
    "        return found "
   ]
  },
  {
   "cell_type": "markdown",
   "metadata": {},
   "source": [
    "Use the cell below to implement the **synthetic data generator** needed by your experimental framework (be mindful of code readability and reusability)."
   ]
  },
  {
   "cell_type": "code",
   "execution_count": 78,
   "metadata": {},
   "outputs": [],
   "source": [
    "import string\n",
    "import random\n",
    "\n",
    "class TestDataGenerator():\n",
    "    '''\n",
    "    A class to represent a synthetic data generator.\n",
    "\n",
    "    ...\n",
    "\n",
    "    Attributes\n",
    "    ----------\n",
    "    \n",
    "    [to be defined as part of the coursework]\n",
    "\n",
    "    Methods\n",
    "    -------\n",
    "    \n",
    "    [to be defined as part of the coursework]\n",
    "\n",
    "    '''\n",
    "    \n",
    "    #ADD YOUR CODE HERE\n",
    "    \n",
    "    def __init__():\n",
    "        pass\n",
    "    "
   ]
  },
  {
   "cell_type": "markdown",
   "metadata": {},
   "source": [
    "Use the cell below to implement the requested **experimental framework** (be mindful of code readability and reusability)."
   ]
  },
  {
   "cell_type": "code",
   "execution_count": 79,
   "metadata": {},
   "outputs": [],
   "source": [
    "import timeit\n",
    "import matplotlib\n",
    "\n",
    "class ExperimentalFramework():\n",
    "    '''\n",
    "    A class to represent an experimental framework.\n",
    "\n",
    "    ...\n",
    "\n",
    "    Attributes\n",
    "    ----------\n",
    "    \n",
    "    [to be defined as part of the coursework]\n",
    "\n",
    "    Methods\n",
    "    -------\n",
    "    \n",
    "    [to be defined as part of the coursework]\n",
    "\n",
    "    '''\n",
    "            \n",
    "    #ADD YOUR CODE HERE\n",
    "    \n",
    "    def __init__():\n",
    "        pass\n",
    "    "
   ]
  },
  {
   "cell_type": "markdown",
   "metadata": {},
   "source": [
    "Use the cell below to illustrate the python code you used to **fully evaluate** your three chosen search data structures and algortihms. The code below should illustrate, for example, how you made used of the **TestDataGenerator** class to generate test data of various size and properties; how you instatiated the **ExperimentalFramework** class to  evaluate each data structure using such data, collect information about their execution time, plot results, etc. Any results you illustrate in the companion PDF report should have been generated using the code below."
   ]
  },
  {
   "cell_type": "code",
   "execution_count": 80,
   "metadata": {},
   "outputs": [],
   "source": [
    "# ADD YOUR TEST CODE HERE \n",
    "\n",
    "\n",
    "\n"
   ]
  }
 ],
 "metadata": {
  "kernelspec": {
   "display_name": "my-quant-stack",
   "language": "python",
   "name": "python3"
  },
  "language_info": {
   "codemirror_mode": {
    "name": "ipython",
    "version": 3
   },
   "file_extension": ".py",
   "mimetype": "text/x-python",
   "name": "python",
   "nbconvert_exporter": "python",
   "pygments_lexer": "ipython3",
   "version": "3.10.16"
  }
 },
 "nbformat": 4,
 "nbformat_minor": 4
}
