{
 "cells": [
  {
   "cell_type": "markdown",
   "metadata": {},
   "source": [
    "# COMP0005 - GROUP COURSEWORK\n",
    "# Experimental Evaluation of Search Data Structures and Algorithms"
   ]
  },
  {
   "cell_type": "markdown",
   "metadata": {},
   "source": [
    "The cell below defines **AbstractSearchInterface**, an interface to support basic insert/search operations; you will need to implement this three times, to realise your three search data structures of choice among: (1) *2-3 Tree*, (2) *AVL Tree*, (3) *LLRB BST*; (4) *B-Tree*; and (5) *Scapegoat Tree*. <br><br>**Do NOT modify the next cell** - use the dedicated cells further below for your implementation instead. <br>"
   ]
  },
  {
   "cell_type": "code",
   "execution_count": 11,
   "metadata": {},
   "outputs": [],
   "source": [
    "# DO NOT MODIFY THIS CELL\n",
    "\n",
    "from abc import ABC, abstractmethod  \n",
    "\n",
    "class AbstractSearchInterface(ABC):\n",
    "    '''\n",
    "    Abstract class to support search/insert operations (plus underlying data structure)\n",
    "    \n",
    "    '''\n",
    "        \n",
    "    @abstractmethod\n",
    "    def insertElement(self, element):     \n",
    "        '''\n",
    "        Insert an element in a search tree\n",
    "            Parameters:\n",
    "                    element: string to be inserted in the search tree (string)\n",
    "\n",
    "            Returns:\n",
    "                    \"True\" after successful insertion, \"False\" if element is already present (bool)\n",
    "        '''\n",
    "        \n",
    "        pass \n",
    "    \n",
    "\n",
    "    @abstractmethod\n",
    "    def searchElement(self, element):\n",
    "        '''\n",
    "        Search for an element in a search tree\n",
    "            Parameters:\n",
    "                    element: string to be searched in the search tree (string)\n",
    "\n",
    "            Returns:\n",
    "                    \"True\" if element is found, \"False\" otherwise (bool)\n",
    "        '''\n",
    "\n",
    "        pass"
   ]
  },
  {
   "cell_type": "markdown",
   "metadata": {},
   "source": [
    "Use the cell below to define any auxiliary data structure and python function you may need. Leave the implementation of the main API to the next code cells instead."
   ]
  },
  {
   "cell_type": "code",
   "execution_count": 12,
   "metadata": {},
   "outputs": [],
   "source": [
    "# ADD AUXILIARY DATA STRUCTURE DEFINITIONS AND HELPER CODE HERE\n",
    "\n"
   ]
  },
  {
   "cell_type": "markdown",
   "metadata": {},
   "source": [
    "Use the cell below to implement the requested API by means of **2-3 Tree** (if among your chosen data structure)."
   ]
  },
  {
   "cell_type": "code",
   "execution_count": 13,
   "metadata": {},
   "outputs": [],
   "source": [
    "class TwoThreeTree(AbstractSearchInterface):\n",
    "        \n",
    "    def insertElement(self, element):\n",
    "        inserted = False\n",
    "        # ADD YOUR CODE HERE\n",
    "      \n",
    "        \n",
    "        return inserted\n",
    "    \n",
    "    \n",
    "\n",
    "    def searchElement(self, element):     \n",
    "        found = False\n",
    "        # ADD YOUR CODE HERE\n",
    "\n",
    "        \n",
    "        return found    "
   ]
  },
  {
   "cell_type": "markdown",
   "metadata": {},
   "source": [
    "Use the cell below to implement the requested API by means of **AVL Tree** (if among your chosen data structure)."
   ]
  },
  {
   "cell_type": "code",
   "execution_count": 14,
   "metadata": {},
   "outputs": [],
   "source": [
    "class AVLTree(AbstractSearchInterface):\n",
    "        \n",
    "    def insertElement(self, element):\n",
    "        inserted = False\n",
    "        # ADD YOUR CODE HERE\n",
    "      \n",
    "        \n",
    "        return inserted\n",
    "    \n",
    "    \n",
    "\n",
    "    def searchElement(self, element):     \n",
    "        found = False\n",
    "        # ADD YOUR CODE HERE\n",
    "\n",
    "        \n",
    "        return found  "
   ]
  },
  {
   "cell_type": "markdown",
   "metadata": {},
   "source": [
    "Use the cell below to implement the requested API by means of **LLRB BST** (if among your chosen data structure)."
   ]
  },
  {
   "cell_type": "code",
   "execution_count": 15,
   "metadata": {},
   "outputs": [],
   "source": [
    "class LLRBBST(AbstractSearchInterface):\n",
    "        \n",
    "    def insertElement(self, element):\n",
    "        inserted = False\n",
    "        # ADD YOUR CODE HERE\n",
    "      \n",
    "        \n",
    "        return inserted\n",
    "    \n",
    "    \n",
    "\n",
    "    def searchElement(self, element):     \n",
    "        found = False\n",
    "        # ADD YOUR CODE HERE\n",
    "\n",
    "        \n",
    "        return found  "
   ]
  },
  {
   "cell_type": "markdown",
   "metadata": {},
   "source": [
    "Use the cell below to implement the requested API by means of **B-Tree** (if among your chosen data structure)."
   ]
  },
  {
   "cell_type": "code",
   "execution_count": 16,
   "metadata": {},
   "outputs": [],
   "source": [
    "class BTree(AbstractSearchInterface):\n",
    "        \n",
    "    def insertElement(self, element):\n",
    "        inserted = False\n",
    "        # ADD YOUR CODE HERE\n",
    "      \n",
    "        \n",
    "        return inserted\n",
    "    \n",
    "    \n",
    "\n",
    "    def searchElement(self, element):     \n",
    "        found = False\n",
    "        # ADD YOUR CODE HERE\n",
    "\n",
    "        \n",
    "        return found"
   ]
  },
  {
   "cell_type": "markdown",
   "metadata": {},
   "source": [
    "Use the cell below to implement the requested API by means of **Scapegoat Tree** (if among your chosen data structure)."
   ]
  },
  {
   "cell_type": "code",
   "execution_count": 17,
   "metadata": {},
   "outputs": [],
   "source": [
    "class ScapegoatTree(AbstractSearchInterface):\n",
    "        \n",
    "    def insertElement(self, element):\n",
    "        inserted = False\n",
    "        # ADD YOUR CODE HERE\n",
    "      \n",
    "        \n",
    "        return inserted\n",
    "    \n",
    "    \n",
    "\n",
    "    def searchElement(self, element):     \n",
    "        found = False\n",
    "        # ADD YOUR CODE HERE\n",
    "\n",
    "        \n",
    "        return found "
   ]
  },
  {
   "cell_type": "markdown",
   "metadata": {},
   "source": [
    "Use the cell below to implement the **synthetic data generator** needed by your experimental framework (be mindful of code readability and reusability)."
   ]
  },
  {
   "cell_type": "code",
   "execution_count": 18,
   "metadata": {},
   "outputs": [],
   "source": [
    "import string\n",
    "import random\n",
    "\n",
    "class TestDataGenerator():\n",
    "    def generateString(length):\n",
    "        return ''.join(random.choices(string.ascii_letters + string.digits, k=length))\n",
    "    \n",
    "    def generateData(numOfElements, minLength = 10, maxLength = 20):\n",
    "        testData = []\n",
    "        for i in range(numOfElements):\n",
    "            length = random.randint(minLength, maxLength)\n",
    "            testData.append(TestDataGenerator.generateString(length))\n",
    "        return testData\n",
    "    \n",
    "    # Generate a list of sorted random strings.\n",
    "    def generate_sorted_data(self, num_of_elements, min_length=10, max_length=20):\n",
    "            test_data = self.generate_data(num_of_elements, min_length, max_length)\n",
    "            return sorted(test_data)\n",
    "    \n",
    "    # Generate a list of reverse sorted random strings.\n",
    "    def generate_reverse_sorted_data(self, num_of_elements, min_length=10, max_length=20):\n",
    "        test_data = self.generate_data(num_of_elements, min_length, max_length)\n",
    "        return sorted(test_data, reverse=True)\n",
    "    \n",
    "    # Generate a list of random strings with a specified ratio of duplicates.\n",
    "    def generate_duplicates_data(self, num_of_elements, min_length=10, max_length=20, duplicate_ratio=0.1):\n",
    "        unique_data = self.generate_data(int(num_of_elements * (1 - duplicate_ratio)), min_length, max_length)\n",
    "        duplicates = random.choices(unique_data, k=int(num_of_elements * duplicate_ratio))\n",
    "        return unique_data + duplicates\n",
    "    \n",
    "    # Generate a list of random strings with a fixed length.\n",
    "    def generate_fixed_length_data(self, num_of_elements, fixed_length=15):\n",
    "        return [self.generate_string(fixed_length) for _ in range(num_of_elements)]\n",
    "    \n",
    "    "
   ]
  },
  {
   "cell_type": "markdown",
   "metadata": {},
   "source": [
    "Use the cell below to implement the requested **experimental framework** (be mindful of code readability and reusability)."
   ]
  },
  {
   "cell_type": "code",
   "execution_count": 19,
   "metadata": {},
   "outputs": [],
   "source": [
    "import timeit\n",
    "import matplotlib.pyplot as plt\n",
    "\n",
    "class ExperimentalFramework():\n",
    "    def runExperiment(self, dataStructure, testData, operation):\n",
    "        if operation == \"insert\":\n",
    "            def experiment():\n",
    "                for data in testData:\n",
    "                    dataStructure.insertElement(data)\n",
    "        elif operation == \"search\":\n",
    "            def experiment():\n",
    "                for data in testData:\n",
    "                    dataStructure.searchElement(data)\n",
    "        else:\n",
    "            raise ValueError(\"Invalid operation. Use 'insert' or 'search'.\")\n",
    "        \n",
    "        time = timeit.timeit(experiment, number=1)\n",
    "        return time\n",
    "\n",
    "    def evaluateExperiment(self, dataStructures, dataSetSizes, operation):\n",
    "            results = {ds.__class__.__name__: [] for ds in dataStructures}\n",
    "            for size in dataSetSizes:\n",
    "                testData = TestDataGenerator.generateData(size)\n",
    "                for ds in dataStructures:\n",
    "                    time = self.runExperiment(ds, testData, operation)\n",
    "                    results[ds.__class__.__name__].append(time)\n",
    "                    print(f\"{ds.__class__.__name__} - {operation} - Dataset size {size}: {time:.6f} seconds\")\n",
    "            return results\n",
    "   \n",
    "    def plotGraph(self, results, dataSetSizes, operation):\n",
    "        plt.figure(figsize=(10, 6))\n",
    "        for ds_name, times in results.items():\n",
    "            plt.plot(dataSetSizes, times, label=ds_name, marker='o')\n",
    "\n",
    "        plt.title(f\"Performance Comparison: {operation.capitalize()} Operation\")\n",
    "        plt.xlabel(\"Dataset Size\")\n",
    "        plt.ylabel(\"Execution Time (seconds)\")\n",
    "        plt.legend()\n",
    "        plt.grid(True)\n",
    "        plt.show()"
   ]
  },
  {
   "cell_type": "markdown",
   "metadata": {},
   "source": [
    "Use the cell below to illustrate the python code you used to **fully evaluate** your three chosen search data structures and algortihms. The code below should illustrate, for example, how you made used of the **TestDataGenerator** class to generate test data of various size and properties; how you instatiated the **ExperimentalFramework** class to  evaluate each data structure using such data, collect information about their execution time, plot results, etc. Any results you illustrate in the companion PDF report should have been generated using the code below."
   ]
  },
  {
   "cell_type": "code",
   "execution_count": 20,
   "metadata": {},
   "outputs": [],
   "source": [
    "# ADD YOUR TEST CODE HERE \n",
    "\n",
    "\n",
    "\n"
   ]
  }
 ],
 "metadata": {
  "kernelspec": {
   "display_name": "Python 3 (ipykernel)",
   "language": "python",
   "name": "python3"
  },
  "language_info": {
   "codemirror_mode": {
    "name": "ipython",
    "version": 3
   },
   "file_extension": ".py",
   "mimetype": "text/x-python",
   "name": "python",
   "nbconvert_exporter": "python",
   "pygments_lexer": "ipython3",
   "version": "3.11.5"
  }
 },
 "nbformat": 4,
 "nbformat_minor": 4
}
